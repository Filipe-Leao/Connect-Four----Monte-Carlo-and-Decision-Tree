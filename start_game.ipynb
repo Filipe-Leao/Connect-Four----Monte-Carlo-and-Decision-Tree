{
 "cells": [
  {
   "cell_type": "code",
   "execution_count": null,
   "id": "ed844d38",
   "metadata": {},
   "outputs": [],
   "source": [
    "from menu import *\n",
    "\n",
    "if __name__ == \"__main__\":\n",
    "    menu = Menu()\n",
    "    menu.show_main_menu()"
   ]
  }
 ],
 "metadata": {
  "kernelspec": {
   "display_name": "ACI",
   "language": "python",
   "name": "python3"
  },
  "language_info": {
   "codemirror_mode": {
    "name": "ipython",
    "version": 3
   },
   "file_extension": ".py",
   "mimetype": "text/x-python",
   "name": "python",
   "nbconvert_exporter": "python",
   "pygments_lexer": "ipython3",
   "version": "3.11.11"
  }
 },
 "nbformat": 4,
 "nbformat_minor": 5
}
