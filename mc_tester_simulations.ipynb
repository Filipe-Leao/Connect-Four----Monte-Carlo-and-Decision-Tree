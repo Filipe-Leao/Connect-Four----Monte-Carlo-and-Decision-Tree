{
 "cells": [
  {
   "cell_type": "markdown",
   "id": "6671e652",
   "metadata": {},
   "source": [
    "# Parâmetro nº de simulações"
   ]
  },
  {
   "cell_type": "code",
   "execution_count": null,
   "id": "0ccdf4e1",
   "metadata": {},
   "outputs": [],
   "source": [
    "#mc_tester_simulations\n",
    "from board import *\n",
    "from montecarlo import *\n",
    "import time\n",
    "\n",
    "def run_monte_carlo_matches(num_games=100):\n",
    "    '''Avalia em 100 jogos as diferenças de comportamento do MonteCarlo quando mudamos certos parâmetros'''\n",
    "    ai1 = MonteCarlo_Player(difficulty=\"medium\")        # escolher easy, medium ou hard\n",
    "    ai2 = MonteCarlo_Player(difficulty=\"hard\")          # escolher easy, medium ou hard\n",
    "    results = {PLAYER1: 0, PLAYER2: 0, 0: 0}  # 0 é empate\n",
    "\n",
    "    for game_idx in range(num_games):\n",
    "        board = Board()\n",
    "        current_player = PLAYER1\n",
    "\n",
    "        while not board.is_game_over():\n",
    "\n",
    "            if current_player == PLAYER1:\n",
    "                move = ai1.make_move(board)\n",
    "            else:\n",
    "                move = ai2.make_move(board)\n",
    "\n",
    "            if move == -1:\n",
    "                break  # sem jogadas possíveis\n",
    "\n",
    "            board.drop_piece(move)\n",
    "            current_player = PLAYER2 if current_player == PLAYER1 else PLAYER1\n",
    "\n",
    "        winner = board.winner if board.winner is not None else 0\n",
    "        results[winner] += 1\n",
    "\n",
    "    print(f\"Vitórias Jogador 1 (Vermelho): {results[PLAYER1]}\")\n",
    "    print(f\"Vitórias Jogador 2 (Amarelo): {results[PLAYER2]}\")\n",
    "    print(f\"Empates: {results[0]}\")\n",
    "\n",
    "if __name__ == \"__main__\":\n",
    "    run_monte_carlo_matches(num_games=100)"
   ]
  },
  {
   "cell_type": "markdown",
   "id": "9148fb21",
   "metadata": {},
   "source": [
    "## Testes estatísticos por cada 100 jogos"
   ]
  },
  {
   "cell_type": "markdown",
   "id": "b1f88809",
   "metadata": {},
   "source": [
    "### Teste 1\n",
    "- **Jogador 1 (5000)**: 61 vitórias  \n",
    "- **Jogador 2 (2000)**: 39 vitórias  \n",
    "- **Empates**: 0\n",
    "\n",
    "### Teste 2\n",
    "- **Jogador 1 (2000)**: 44 vitórias  \n",
    "- **Jogador 2 (5000)**: 55 vitórias  \n",
    "- **Empates**: 1\n",
    "\n",
    "### Teste 3\n",
    "- **Jogador 1 (10000)**: 62 vitórias  \n",
    "- **Jogador 2 (5000)**: 37 vitórias  \n",
    "- **Empates**: 1\n",
    "\n",
    "### Teste 4\n",
    "- **Jogador 1 (5000)**: 34 vitórias  \n",
    "- **Jogador 2 (10000)**: 66 vitórias  \n",
    "- **Empates**: 0\n",
    "\n",
    "### Teste 5\n",
    "- **Jogador 1 (10000)**: 76 vitórias  \n",
    "- **Jogador 2 (2000)**: 24 vitórias  \n",
    "- **Empates**: 0\n",
    "\n",
    "### Teste 6\n",
    "- **Jogador 1 (2000)**: 29 vitórias  \n",
    "- **Jogador 2 (10000)**: 71 vitórias  \n",
    "- **Empates**: 0"
   ]
  },
  {
   "cell_type": "markdown",
   "id": "09c82ce4",
   "metadata": {},
   "source": [
    "## Conclusões"
   ]
  },
  {
   "cell_type": "markdown",
   "id": "fd443830",
   "metadata": {},
   "source": [
    "Existe uma forte correlação entre um maior número de simulações e uma maior taxa de vitórias. Em todos os confrontos testados, o jogador com um número significativamente maior de simulações venceu a maioria das partidas contra o adversário com menos simulações. Quanto maior a diferença no número de simulações entre os dois jogadores, mais pronunciada é a vantagem para o jogador com mais simulações.\n",
    "\n",
    "\n",
    "Em confrontos onde a diferença de simulações não é excessivamente grande (por exemplo 5000 vs. 2000), o jogador 1 (que joga primeiro) parece beneficiar de uma ligeira vantagem, como se observa nas percentagens de vitória ligeiramente superiores quando o jogador com mais simulações é o jogador 1. \n",
    "\n",
    "\n",
    "Estes testes confirmam que aumentar o número de simulações é a forma mais direta de aumentar a inteligência do jogador MCTS. Contudo, isto obriga um custo de um maior tempo de processamento por jogada. A escolha de um número de simulações para um jogador final deve, portanto, equilibrar a inteligência desejada com o respetivo tempo.\n"
   ]
  }
 ],
 "metadata": {
  "kernelspec": {
   "display_name": "ACI",
   "language": "python",
   "name": "python3"
  },
  "language_info": {
   "codemirror_mode": {
    "name": "ipython",
    "version": 3
   },
   "file_extension": ".py",
   "mimetype": "text/x-python",
   "name": "python",
   "nbconvert_exporter": "python",
   "pygments_lexer": "ipython3",
   "version": "3.11.11"
  }
 },
 "nbformat": 4,
 "nbformat_minor": 5
}
