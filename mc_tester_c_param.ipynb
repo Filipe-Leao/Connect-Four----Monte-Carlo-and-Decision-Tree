{
 "cells": [
  {
   "cell_type": "markdown",
   "id": "8ee1e0ca",
   "metadata": {},
   "source": [
    "# Parâmetro C na fórmula UCB1"
   ]
  },
  {
   "cell_type": "code",
   "execution_count": null,
   "id": "e0e8a5b9",
   "metadata": {},
   "outputs": [],
   "source": [
    "#mc_tester_c_param\n",
    "from board import *\n",
    "from montecarlo import *\n",
    "import time\n",
    "\n",
    "def run_monte_carlo_matches(num_games=100):\n",
    "    '''Avalia em 100 jogos as diferenças de comportamento do MonteCarlo quando mudamos certos parâmetros'''\n",
    "    ai1 = MonteCarlo_Player(c_param=np.sqrt(2))         # escolher valor do C parameter (ex.: 1,sqrt(2),2 ou 4)\n",
    "    ai2 = MonteCarlo_Player(c_param=1)                  # escolher valor do C parameter (ex.: 1,sqrt(2), ou 4)\n",
    "    results = {PLAYER1: 0, PLAYER2: 0, 0: 0}  # 0 é empate\n",
    "\n",
    "    for game_idx in range(num_games):\n",
    "        board = Board()\n",
    "        current_player = PLAYER1\n",
    "\n",
    "        while not board.is_game_over():\n",
    "\n",
    "            if current_player == PLAYER1:\n",
    "                move = ai1.make_move(board)\n",
    "            else:\n",
    "                move = ai2.make_move(board)\n",
    "\n",
    "            if move == -1:\n",
    "                break  # sem jogadas possíveis\n",
    "\n",
    "            board.drop_piece(move)\n",
    "            current_player = PLAYER2 if current_player == PLAYER1 else PLAYER1\n",
    "\n",
    "        winner = board.winner if board.winner is not None else 0\n",
    "        results[winner] += 1\n",
    "\n",
    "    print(f\"Vitórias Jogador 1 (Vermelho): {results[PLAYER1]}\")\n",
    "    print(f\"Vitórias Jogador 2 (Amarelo): {results[PLAYER2]}\")\n",
    "    print(f\"Empates: {results[0]}\")\n",
    "\n",
    "if __name__ == \"__main__\":\n",
    "    run_monte_carlo_matches(num_games=100)"
   ]
  },
  {
   "cell_type": "markdown",
   "id": "6a19a115",
   "metadata": {},
   "source": [
    "## Testes estatísticos por cada 100 jogos"
   ]
  },
  {
   "cell_type": "markdown",
   "id": "8d21d815",
   "metadata": {},
   "source": [
    "### Teste 1\n",
    "- **Jogador 1 (c_param = np.sqrt(2))**: 60 vitórias  \n",
    "- **Jogador 2 (c_param = 2.0)**: 40 vitórias  \n",
    "- **Empates**: 0\n",
    "\n",
    "### Teste 2\n",
    "- **Jogador 1 (c_param = 2.0)**: 56 vitórias  \n",
    "- **Jogador 2 (c_param = np.sqrt(2))**: 44 vitórias  \n",
    "- **Empates**: 0\n",
    "\n",
    "### Teste 3\n",
    "- **Jogador 1 (c_param = np.sqrt(2))**: 63 vitórias  \n",
    "- **Jogador 2 (c_param = 4)**: 37 vitórias  \n",
    "- **Empates**: 0\n",
    "\n",
    "### Teste 4\n",
    "- **Jogador 1 (c_param = 4)**: 60 vitórias  \n",
    "- **Jogador 2 (c_param = np.sqrt(2))**: 40 vitórias  \n",
    "- **Empates**: 0\n",
    "\n",
    "### Teste 5\n",
    "- **Jogador 1 (c_param = np.sqrt(2))**: 63 vitórias  \n",
    "- **Jogador 2 (c_param = 1)**: 36 vitórias  \n",
    "- **Empates**: 1\n",
    "\n",
    "### Teste 6\n",
    "- **Jogador 1 (c_param = 1)**: 67 vitórias  \n",
    "- **Jogador 2 (c_param = np.sqrt(2))**: 32 vitórias  \n",
    "- **Empates**: 1\n"
   ]
  },
  {
   "cell_type": "markdown",
   "id": "48cb7bd8",
   "metadata": {},
   "source": [
    "## Conclusões"
   ]
  },
  {
   "cell_type": "markdown",
   "id": "ae9494d9",
   "metadata": {},
   "source": [
    "Após a análise estatística após 100 jogos para cada um dos 6 conjuntos de confrontos, concluímos que o valor de C = raiz de 2​ (aproximadamente 1.414), que é um valor teórico normalmente recomendado, demonstrou um desempenho forte e consistente contra as outras variações. O valor C = 1 também apresentou resultados muito competitivos, superando a raiz de 2​ quando atuou como Jogador 1. Valores de C mais altos, como 2 e especialmente 4, que incentivam maior exploração, não mostraram uma vantagem clara e, em alguns confrontos, foram superados por valores de C menores. \n",
    "\n",
    "Temos sempre a considerar que foram realizados 100 jogos. No entanto, os resultados sugerem que valores de C entre 1 e raiz de 2​ são os mais promissores para este problema, com raiz de 2​ a ser uma escolha robusta. Para os restantes testes e para o jogador final, optámos por manter o valor padrão de 2​ devido à sua boa performance em relação ao objetivo, com o C = 1 a ser uma opção para níveis de dificuldade inferiores.\n"
   ]
  }
 ],
 "metadata": {
  "kernelspec": {
   "display_name": "ACI",
   "language": "python",
   "name": "python3"
  },
  "language_info": {
   "codemirror_mode": {
    "name": "ipython",
    "version": 3
   },
   "file_extension": ".py",
   "mimetype": "text/x-python",
   "name": "python",
   "nbconvert_exporter": "python",
   "pygments_lexer": "ipython3",
   "version": "3.11.11"
  }
 },
 "nbformat": 4,
 "nbformat_minor": 5
}
