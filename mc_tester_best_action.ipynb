{
 "cells": [
  {
   "cell_type": "markdown",
   "id": "4a5096ce",
   "metadata": {},
   "source": [
    "# Parâmetro critério no best_action - Nº de visitas ou WinRate"
   ]
  },
  {
   "cell_type": "code",
   "execution_count": null,
   "id": "a647b746",
   "metadata": {},
   "outputs": [],
   "source": [
    "#mc_tester_best_action\n",
    "from board import *\n",
    "from montecarlo import *\n",
    "import time\n",
    "\n",
    "def run_monte_carlo_matches(num_games=100):\n",
    "    '''Avalia em 100 jogos as diferenças de comportamento do MonteCarlo quando mudamos certos parâmetros'''\n",
    "    ai1 = MonteCarlo_Player_WinRate(c_param=np.sqrt(2))     # escolher o modo de escolha da melhor ação (maior numero de visitas ou win rate)\n",
    "    ai2 = MonteCarlo_Player(c_param=np.sqrt(2))             # escolher o modo de escolha da melhor ação (maior numero de visitas ou win rate)\n",
    "    results = {PLAYER1: 0, PLAYER2: 0, 0: 0}  # 0 é empate\n",
    "\n",
    "    for game_idx in range(num_games):\n",
    "        board = Board()\n",
    "        current_player = PLAYER1\n",
    "\n",
    "        while not board.is_game_over():\n",
    "\n",
    "            if current_player == PLAYER1:\n",
    "                move = ai1.make_move(board)\n",
    "            else:\n",
    "                move = ai2.make_move(board)\n",
    "\n",
    "            if move == -1:\n",
    "                break  # sem jogadas possíveis\n",
    "\n",
    "            board.drop_piece(move)\n",
    "            current_player = PLAYER2 if current_player == PLAYER1 else PLAYER1\n",
    "\n",
    "        winner = board.winner if board.winner is not None else 0\n",
    "        results[winner] += 1\n",
    "\n",
    "    print(f\"Vitórias Jogador 1 (Vermelho): {results[PLAYER1]}\")\n",
    "    print(f\"Vitórias Jogador 2 (Amarelo): {results[PLAYER2]}\")\n",
    "    print(f\"Empates: {results[0]}\")\n",
    "\n",
    "if __name__ == \"__main__\":\n",
    "    run_monte_carlo_matches(num_games=100)"
   ]
  },
  {
   "cell_type": "markdown",
   "id": "2d195f24",
   "metadata": {},
   "source": [
    "## Testes estatísticos por cada 100 jogos"
   ]
  },
  {
   "cell_type": "markdown",
   "id": "403e7fb3",
   "metadata": {},
   "source": [
    "### Teste 1\n",
    "- **Jogador 1 - MonteCarlo_Player (número de visitas)**: 55 vitórias  \n",
    "- **Jogador 2 - MonteCarlo_Player_WinRate (WinRate)**: 44 vitórias  \n",
    "- **Empates**: 1\n",
    "\n",
    "### Teste 2\n",
    "- **Jogador 1 - MonteCarlo_Player_WinRate (WinRate)**: 48 vitórias  \n",
    "- **Jogador 2 - MonteCarlo_Player (número de visitas)**: 50 vitórias  \n",
    "- **Empates**: 2\n"
   ]
  },
  {
   "cell_type": "markdown",
   "id": "b0255b80",
   "metadata": {},
   "source": [
    "## Conclusões"
   ]
  },
  {
   "cell_type": "markdown",
   "id": "a326ad93",
   "metadata": {},
   "source": [
    "O critério número de visitas é geralmente mais robusto do que a Win Rate, pois reflete melhor o trabalho geral de exploração e avaliação feito pelo algoritmo MCTS, guiado pelo UCB1. Uma jogada muito visitada significa que o algoritmo consistentemente considerou a jogada promissora ao longo de muitas simulações. A Win Rate, apesar de ser uma opção intuitiva, é mais sensível a resultados iniciais ou à “sorte” em poucas simulações - ruído/outliers. Uma jogada pode ter uma taxa de 100% após poucas visitas, mas isso não é tão fiável como uma taxa de 80% baseada em centenas ou milhares de visitas.\n",
    "\n",
    "\n",
    "Desta forma, e com a confirmação de melhor performance do número de visitas sobre a Win Rate, e com o objetivo de encontrar um critério de escolha mais informada e estatisticamente significativo, concluímos que o número de visitas é o melhor critério a utilizar no jogo Quatro em Linha.\n"
   ]
  }
 ],
 "metadata": {
  "kernelspec": {
   "display_name": "ACI",
   "language": "python",
   "name": "python3"
  },
  "language_info": {
   "codemirror_mode": {
    "name": "ipython",
    "version": 3
   },
   "file_extension": ".py",
   "mimetype": "text/x-python",
   "name": "python",
   "nbconvert_exporter": "python",
   "pygments_lexer": "ipython3",
   "version": "3.11.11"
  }
 },
 "nbformat": 4,
 "nbformat_minor": 5
}
