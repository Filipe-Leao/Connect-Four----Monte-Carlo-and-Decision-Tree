{
 "cells": [
  {
   "cell_type": "markdown",
   "id": "19967b03",
   "metadata": {},
   "source": [
    "# Parâmetro número de filhos por nó"
   ]
  },
  {
   "cell_type": "code",
   "execution_count": null,
   "id": "90b0521c",
   "metadata": {},
   "outputs": [],
   "source": [
    "#mc_tester_nodes_per_child\n",
    "from board import *\n",
    "from montecarlo_nodes_per_child import *\n",
    "import time\n",
    "\n",
    "def run_monte_carlo_matches(num_games=100):\n",
    "    '''Avalia em 100 jogos as diferenças de comportamento do MonteCarlo quando mudamos certos parâmetros'''\n",
    "    ai1 = MonteCarlo_Player(max_children_to_explore=None)   # escolher o numero de filhos a serem explorados (None=7, 5 ou 3)\n",
    "    ai2 = MonteCarlo_Player(max_children_to_explore=5)      # escolher o numero de filhos a serem explorados (None=7, 5 ou 3)\n",
    "    results = {PLAYER1: 0, PLAYER2: 0, 0: 0}  # 0 é empate\n",
    "\n",
    "    for game_idx in range(num_games):\n",
    "        board = Board()\n",
    "        current_player = PLAYER1\n",
    "\n",
    "        while not board.is_game_over():\n",
    "\n",
    "            if current_player == PLAYER1:\n",
    "                move = ai1.make_move(board)\n",
    "            else:\n",
    "                move = ai2.make_move(board)\n",
    "\n",
    "            if move == -1:\n",
    "                break  # sem jogadas possíveis\n",
    "\n",
    "            board.drop_piece(move)\n",
    "            current_player = PLAYER2 if current_player == PLAYER1 else PLAYER1\n",
    "\n",
    "        winner = board.winner if board.winner is not None else 0\n",
    "        results[winner] += 1\n",
    "\n",
    "    print(f\"Vitórias Jogador 1 (Vermelho): {results[PLAYER1]}\")\n",
    "    print(f\"Vitórias Jogador 2 (Amarelo): {results[PLAYER2]}\")\n",
    "    print(f\"Empates: {results[0]}\")\n",
    "\n",
    "if __name__ == \"__main__\":\n",
    "    run_monte_carlo_matches(num_games=100)"
   ]
  },
  {
   "cell_type": "markdown",
   "id": "6bc2e11b",
   "metadata": {},
   "source": [
    "## Testes estatísticos por cada 100 jogos"
   ]
  },
  {
   "cell_type": "markdown",
   "id": "0fb6c4b3",
   "metadata": {},
   "source": [
    "### Teste 1\n",
    "- **Jogador 1 (7)**: 49 vitórias  \n",
    "- **Jogador 2 (7)**: 51 vitórias  \n",
    "- **Empates**: 0\n",
    "\n",
    "### Teste 2\n",
    "- **Jogador 1 (7)**: 99 vitórias  \n",
    "- **Jogador 2 (3)**: 1 vitórias  \n",
    "- **Empates**: 0\n",
    "\n",
    "### Teste 3\n",
    "- **Jogador 1 (3)**: 2 vitórias  \n",
    "- **Jogador 2 (7)**: 98 vitórias  \n",
    "- **Empates**: 0\n",
    "\n",
    "### Teste 4\n",
    "- **Jogador 1 (7)**: 84 vitórias  \n",
    "- **Jogador 2 (5)**: 16 vitórias  \n",
    "- **Empates**: 0\n",
    "\n",
    "### Teste 5\n",
    "- **Jogador 1 (5)**: 16 vitórias  \n",
    "- **Jogador 2 (7)**: 84 vitórias  \n",
    "- **Empates**: 0\n",
    "\n",
    "### Teste 6\n",
    "- **Jogador 1 (5)**: 96 vitórias  \n",
    "- **Jogador 2 (3)**: 4 vitórias  \n",
    "- **Empates**: 0\n",
    "\n",
    "### Teste 7\n",
    "- **Jogador 1 (3)**: 12 vitórias  \n",
    "- **Jogador 2 (5)**: 88 vitórias  \n",
    "- **Empates**: 0\n",
    "\n",
    "\n",
    "\n"
   ]
  },
  {
   "cell_type": "markdown",
   "id": "39559468",
   "metadata": {},
   "source": [
    "## Conclusões"
   ]
  },
  {
   "cell_type": "markdown",
   "id": "a494653f",
   "metadata": {},
   "source": [
    "Limitar o número de filhos que o MCTS pode explorar a partir de cada nó (para valores como 3 ou 5) consistentemente levou a um desempenho bastante inferior em comparação com a abordagem que considera todas as jogadas legais (representada por max_children_to_explore = None ou 7). O jogador com acesso a um maior leque de opções iniciais em cada nó tem tendência a vencer mais partidas.\n",
    "\n",
    "\n",
    "A principal desvantagem de restringir o fator de ramificação é o risco inerente de \"podar\" ou nunca considerar uma jogada que seria ótima ou crucial. Se as opções iniciais forem mal selecionadas (especialmente usando uma seleção aleatória como na nossa implementação deste limite), a qualidade geral da busca é comprometida.\n",
    "\n",
    "\n",
    "O Quatro em Linha tem um fator de ramificação máximo de 7, que já é relativamente pequeno para o MCTS com um número razoável de simulações. A poda neste contexto parece ser mais prejudicial do que benéfica, pois o algoritmo já consegue explorar adequadamente todas as 7 opções sem se \"perder\" excessivamente em largura.\n",
    "\n",
    "\n",
    "Portanto, para a configuração final do nosso agente MCTS, revelou ser extremamente mais eficaz a opção de não impor um limite ao número de filhos explorados por nó, permitindo que o algoritmo utilize o seu processo de seleção UCB1 sobre todas as jogadas possíveis.\n"
   ]
  }
 ],
 "metadata": {
  "kernelspec": {
   "display_name": "ACI",
   "language": "python",
   "name": "python3"
  },
  "language_info": {
   "codemirror_mode": {
    "name": "ipython",
    "version": 3
   },
   "file_extension": ".py",
   "mimetype": "text/x-python",
   "name": "python",
   "nbconvert_exporter": "python",
   "pygments_lexer": "ipython3",
   "version": "3.11.11"
  }
 },
 "nbformat": 4,
 "nbformat_minor": 5
}
