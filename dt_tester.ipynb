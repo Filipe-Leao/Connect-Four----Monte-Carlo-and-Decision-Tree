{
 "cells": [
  {
   "cell_type": "markdown",
   "id": "3de17806",
   "metadata": {},
   "source": [
    "# Teste da entropia condicional aplicada a dados numéricos"
   ]
  },
  {
   "cell_type": "code",
   "execution_count": null,
   "id": "46f95412",
   "metadata": {},
   "outputs": [
    {
     "name": "stdout",
     "output_type": "stream",
     "text": [
      "Resultado da função conditional_entropy_split:\n",
      "Melhor Threshold: 25.0\n",
      "Melhor Entropia Condicional: 0.5408520829727552\n",
      "\n",
      "Valores Esperados:\n",
      "Threshold Esperado: 25.0\n",
      "Entropia Condicional Esperada: 0.5408520829727552\n"
     ]
    }
   ],
   "source": [
    "import numpy as np\n",
    "from collections import Counter\n",
    "from decisiontree import *\n",
    "\n",
    "dt_test = DecisionTree()\n",
    "\n",
    "# Dados de exemplo\n",
    "X_column_example = np.array([10.0, 20.0, 30.0, 40.0, 50.0, 60.0])\n",
    "y_example = np.array(['A', 'A', 'B', 'B', 'A', 'B'])\n",
    "\n",
    "# Chamar a função conditional_entropy_split\n",
    "best_threshold, best_entropy = dt_test.conditional_entropy_split(X_column_example, y_example)\n",
    "\n",
    "print(\"Resultado da função conditional_entropy_split:\")\n",
    "print(f\"Melhor Threshold: {best_threshold}\")\n",
    "print(f\"Melhor Entropia Condicional: {best_entropy}\\n\")\n",
    "\n",
    "# Valores esperados (com base no cálculo manual)\n",
    "expected_threshold = 25.0\n",
    "expected_entropy = (2/6)*dt_test.entropy(np.array(['A','A'])) + \\\n",
    "                   (4/6)*dt_test.entropy(np.array(['B','B','A','B'])) \n",
    "\n",
    "# Para o cálculo manual de expected_entropy:\n",
    "# H_left = 0\n",
    "# H_right = -((1/4)*np.log2(1/4) + (3/4)*np.log2(3/4))      # 0.8112781244591328\n",
    "# expected_entropy_manual = (2/6) * 0 + (4/6) * H_right     # 0.5408520829727552\n",
    "\n",
    "print(\"Valores Esperados:\")\n",
    "print(f\"Threshold Esperado: {expected_threshold}\")\n",
    "print(f\"Entropia Condicional Esperada: {expected_entropy}\") "
   ]
  }
 ],
 "metadata": {
  "kernelspec": {
   "display_name": "ACI",
   "language": "python",
   "name": "python3"
  },
  "language_info": {
   "codemirror_mode": {
    "name": "ipython",
    "version": 3
   },
   "file_extension": ".py",
   "mimetype": "text/x-python",
   "name": "python",
   "nbconvert_exporter": "python",
   "pygments_lexer": "ipython3",
   "version": "3.11.11"
  }
 },
 "nbformat": 4,
 "nbformat_minor": 5
}
